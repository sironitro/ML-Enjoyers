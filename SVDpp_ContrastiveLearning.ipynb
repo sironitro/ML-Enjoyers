{
  "cells": [
    {
      "cell_type": "markdown",
      "id": "4b9bc283-1695-47ae-994e-fe742d0852d9",
      "metadata": {
        "editable": true,
        "id": "4b9bc283-1695-47ae-994e-fe742d0852d9",
        "tags": []
      },
      "source": [
        "# Collaborative filtering project\n",
        "\n",
        "In this project, the task is to create a paper recommendation system. The system consists of 10,000 scientists and 1,000 papers. Scientists give ratings between 1–5 to the papers that they read. Since not all scientists have read every paper, we only have a limited amount of observations of these ratings. Additionally, each scientist has a wishlist of papers that they would like to read in the future. Your task is to fill in the missing observations using the provided rating and wishlist data, such that we can recommend papers to scientists that we expect them to rate highly.\n",
        "\n",
        "More specifically, there are three data sources:\n",
        " - `train_tbr.csv` containing wishlist data.\n",
        " - `train_ratings.csv` containing observed rating data.\n",
        " - `sample_submission.csv` containing (scientist, paper) pairs that have to be rated for the evaluation of your method.\n",
        "\n",
        "The data is available at `/cluster/courses/cil/collaborative_filtering/data` and an environment has been prepared for you at `/cluster/courses/cil/envs/collaborative_filtering`. You can activate the environment in your shell by running:\n",
        "```bash\n",
        "conda activate /cluster/courses/cil/envs/collaborative_filtering\n",
        "```\n",
        "If you wish to use notebooks on the cluster, you need to set the Environment path to `/cluster/courses/cil/envs/collaborative_filtering/bin` and load the `cuda/12.6` module.\n",
        "\n",
        "**Evaluation**: Your models are evaluated using the root mean-squared error (RMSE) metric. Your grade is determined by a linear interpolation between the easy (grade 4) and hard (grade 6) baselines.\n",
        "\n",
        "**Rules**: You are only allowed to use the data provided in `train_tbr.csv` and `train_ratings.csv` to make your predictions of `sample_submission.csv`. You are not allowed to use external data sources. But, you are allowed to use pre-trained models, as long as they are available publicly. Furthermore, no external API calls are allowed, except for downloading the weights of pre-trained models.\n",
        "\n",
        "**We will verify your code for plagiarism and using solutions from previous years.**\n",
        "\n",
        "[Link to Kaggle competition](https://www.kaggle.com/competitions/ethz-cil-collaborative-filtering-2025)\n"
      ]
    },
    {
      "cell_type": "code",
      "execution_count": 1,
      "id": "d799b9af-d742-4cac-a937-06102e652812",
      "metadata": {
        "id": "d799b9af-d742-4cac-a937-06102e652812"
      },
      "outputs": [],
      "source": [
        "from typing import Tuple, Callable\n",
        "\n",
        "import pandas as pd\n",
        "import numpy as np\n",
        "import torch\n",
        "import torch.nn as nn\n",
        "import torch.nn.functional as F\n",
        "import matplotlib.pyplot as plt\n",
        "from sklearn.model_selection import train_test_split\n",
        "from sklearn.metrics import root_mean_squared_error\n",
        "import os\n",
        "from sklearn.model_selection import KFold\n",
        "import copy"
      ]
    },
    {
      "cell_type": "code",
      "execution_count": 2,
      "id": "222252f9",
      "metadata": {},
      "outputs": [
        {
          "name": "stdout",
          "output_type": "stream",
          "text": [
            "CUDA available: True\n",
            "GPU name: NVIDIA GeForce RTX 4070\n"
          ]
        }
      ],
      "source": [
        "\n",
        "print(\"CUDA available:\", torch.cuda.is_available())\n",
        "print(\"GPU name:\", torch.cuda.get_device_name(0) if torch.cuda.is_available() else \"None\")\n"
      ]
    },
    {
      "cell_type": "markdown",
      "id": "0063fd35-caac-4ced-b13e-b49cfb58d9a2",
      "metadata": {
        "editable": true,
        "id": "0063fd35-caac-4ced-b13e-b49cfb58d9a2",
        "tags": []
      },
      "source": [
        "Make sure that results are reproducible by using a seed."
      ]
    },
    {
      "cell_type": "code",
      "execution_count": 3,
      "id": "e73627bd-1106-4276-a498-32b44f1b5c0c",
      "metadata": {
        "id": "e73627bd-1106-4276-a498-32b44f1b5c0c"
      },
      "outputs": [],
      "source": [
        "SEED = 42\n",
        "torch.manual_seed(SEED)\n",
        "np.random.seed(SEED)"
      ]
    },
    {
      "cell_type": "code",
      "execution_count": 4,
      "id": "SbIbhgqLhpBy",
      "metadata": {
        "colab": {
          "base_uri": "https://localhost:8080/"
        },
        "id": "SbIbhgqLhpBy",
        "outputId": "408967e0-1105-409c-db00-3866632c750d"
      },
      "outputs": [
        {
          "name": "stdout",
          "output_type": "stream",
          "text": [
            "Using: cuda\n"
          ]
        }
      ],
      "source": [
        "device = torch.device(\"cuda\" if torch.cuda.is_available() else \"cpu\")\n",
        "print(f\"Using: {device}\")"
      ]
    },
    {
      "cell_type": "code",
      "execution_count": 5,
      "id": "65226f56-d281-45fd-bd93-54724ad47dea",
      "metadata": {
        "id": "65226f56-d281-45fd-bd93-54724ad47dea"
      },
      "outputs": [],
      "source": [
        "class SVDpp(nn.Module):\n",
        "    def __init__(self, num_scientists: int = 10000, num_papers: int = 10000, emb_dim: int = 32, s2p: dict = dict(), global_mean: torch.float32 = 3.82, s2w: dict = dict()):\n",
        "        super().__init__()\n",
        "        self.emb_dim = emb_dim\n",
        "        self.s2p = s2p\n",
        "        self.s2w = s2w\n",
        "\n",
        "        # embeddings for scientists and papers\n",
        "        self.scientist_factors = nn.Embedding(num_scientists, emb_dim)\n",
        "        self.paper_factors = nn.Embedding(num_papers, emb_dim)\n",
        "        self.scientist_bias = nn.Embedding(num_scientists, 1)\n",
        "        self.paper_bias = nn.Embedding(num_papers, 1)\n",
        "        self.implicit_factors = nn.Embedding(num_papers, emb_dim)\n",
        "        self.implicit_wishlist = nn.Embedding(num_papers, emb_dim)\n",
        "\n",
        "        # global average rating - TODO: maybe come up with smth better\n",
        "        self.global_bias = nn.Parameter(torch.tensor([global_mean]), requires_grad=False)\n",
        "\n",
        "        # init weights - TODO: not tuned rn\n",
        "        nn.init.normal_(self.scientist_factors.weight, std=0.1)\n",
        "        nn.init.normal_(self.paper_factors.weight, std=0.1)\n",
        "        nn.init.normal_(self.implicit_factors.weight, std=0.1)\n",
        "        nn.init.normal_(self.implicit_wishlist.weight, std=0.1)\n",
        "        nn.init.constant_(self.scientist_bias.weight, 0.0)\n",
        "        nn.init.constant_(self.paper_bias.weight, 0.0)\n",
        "\n",
        "    def forward(self, scientist_ids, paper_ids):\n",
        "        # latent factors and biases for current batch\n",
        "        scientist_embeddings = self.scientist_factors(scientist_ids)\n",
        "        paper_embeddings = self.paper_factors(paper_ids)\n",
        "        # squeeze to remove extra dim\n",
        "        scientist_biases = self.scientist_bias(scientist_ids).squeeze()\n",
        "        paper_biases = self.paper_bias(paper_ids).squeeze()\n",
        "\n",
        "        papers = [self.s2p.get(k, []) for k in scientist_ids]\n",
        "\n",
        "        # implicit feedback from rated papers\n",
        "        implicit_embeds = []\n",
        "        for sp in papers:\n",
        "            if len(sp) > 0:\n",
        "                y_j = self.implicit_factors(torch.tensor(sp, device=scientist_ids.device))\n",
        "                sum_yj = y_j.sum(dim=0)\n",
        "                norm_yj = sum_yj / torch.sqrt(torch.tensor(len(sp), dtype=torch.float, device=scientist_ids.device))\n",
        "            else:\n",
        "                norm_yj = torch.zeros_like(scientist_embeddings[0])\n",
        "            implicit_embeds.append(norm_yj)\n",
        "        y_u = torch.stack(implicit_embeds)\n",
        "\n",
        "\n",
        "        # implicit feedback from wishlist papers\n",
        "        wishlist = [self.s2w.get(k, []) for k in scientist_ids]\n",
        "\n",
        "        implicit_embeds_wl = []\n",
        "        for w in wishlist:\n",
        "            if len(w) > 0:\n",
        "                y_j_wl = self.implicit_wishlist(torch.tensor(w, device=scientist_ids.device))\n",
        "                sum_yj_wl = y_j_wl.sum(dim=0)\n",
        "                norm_yj_wl = sum_yj_wl / torch.sqrt(torch.tensor(len(w), dtype=torch.float, device=scientist_ids.device))\n",
        "            else:\n",
        "                norm_yj_wl = torch.zeros_like(scientist_embeddings[0])\n",
        "            implicit_embeds_wl.append(norm_yj_wl)\n",
        "        y_u_wl = torch.stack(implicit_embeds_wl)\n",
        "\n",
        "        # dot product for interaction\n",
        "        interaction = ((scientist_embeddings + y_u + y_u_wl)  * paper_embeddings).sum(dim=1)\n",
        "\n",
        "        # predict ratings\n",
        "        predicted_ratings = interaction + scientist_biases + paper_biases + self.global_bias\n",
        "        return predicted_ratings\n"
      ]
    },
    {
      "cell_type": "code",
      "execution_count": 6,
      "id": "74e4b582",
      "metadata": {},
      "outputs": [],
      "source": [
        "def contrastive_loss(pos_scores, neg_scores, margin=1.0):\n",
        "    \"\"\"\n",
        "    Contrastive loss that pushes pos_scores up and neg_scores down.\n",
        "    \"\"\"\n",
        "    # Want pos_scores >> neg_scores, so hinge loss on margin\n",
        "    loss = F.relu(margin - pos_scores + neg_scores)\n",
        "    return loss.mean()\n"
      ]
    },
    {
      "cell_type": "markdown",
      "id": "00b5b6d6-37ed-40d1-b651-962c611a22c3",
      "metadata": {
        "id": "00b5b6d6-37ed-40d1-b651-962c611a22c3"
      },
      "source": [
        "## Helper functions"
      ]
    },
    {
      "cell_type": "code",
      "execution_count": 7,
      "id": "b93bc867-b2d9-4cf7-9bb8-ecb13c663eb3",
      "metadata": {
        "id": "b93bc867-b2d9-4cf7-9bb8-ecb13c663eb3"
      },
      "outputs": [],
      "source": [
        "#DATA_DIR = \"/cluster/courses/cil/collaborative_filtering/data\"\n",
        "DATA_DIR = r\"C:\\Users\\loris\\OneDrive\\ETH\\Group Project\"\n",
        "\n",
        "\n",
        "def read_data_df() -> Tuple[pd.DataFrame, pd.DataFrame]:\n",
        "    \"\"\"Reads in data and splits it into training and validation sets with a 75/25 split.\"\"\"\n",
        "    df = pd.read_csv(os.path.join(DATA_DIR, \"train_ratings.csv\"))\n",
        "    # Split sid_pid into sid and pid columns\n",
        "    df[[\"sid\", \"pid\"]] = df[\"sid_pid\"].str.split(\"_\", expand=True)\n",
        "    df = df.drop(\"sid_pid\", axis=1)\n",
        "    df[\"sid\"] = df[\"sid\"].astype(int)\n",
        "    df[\"pid\"] = df[\"pid\"].astype(int)\n",
        "    train_df, valid_df = train_test_split(df, test_size=0.25)\n",
        "    global_mean = torch.tensor(np.mean(train_df.rating.values), dtype=torch.float32)\n",
        "    scientist2papers = df.groupby(\"sid\")[\"pid\"].apply(list).to_dict()\n",
        "    return train_df, valid_df, scientist2papers, global_mean\n",
        "\n",
        "def read_data_df_full() -> Tuple[pd.DataFrame, pd.DataFrame]:\n",
        "    \"\"\"Reads in data and splits it into training and validation sets with a 75/25 split.\"\"\"\n",
        "    df = pd.read_csv(os.path.join(DATA_DIR, \"train_ratings.csv\"))\n",
        "    # Split sid_pid into sid and pid columns\n",
        "    df[[\"sid\", \"pid\"]] = df[\"sid_pid\"].str.split(\"_\", expand=True)\n",
        "    df = df.drop(\"sid_pid\", axis=1)\n",
        "    df[\"sid\"] = df[\"sid\"].astype(int)\n",
        "    df[\"pid\"] = df[\"pid\"].astype(int)\n",
        "    global_mean = torch.tensor(np.mean(df.rating.values), dtype=torch.float32)\n",
        "    scientist2papers = df.groupby(\"sid\")[\"pid\"].apply(list).to_dict()\n",
        "    return df, scientist2papers, global_mean\n",
        "\n",
        "def read_wishlist_dict() -> dict:\n",
        "    wishlist = pd.read_csv(os.path.join(DATA_DIR, \"train_tbr.csv\"))\n",
        "    wishlist[\"sid\"] = wishlist[\"sid\"].astype(int)\n",
        "    wishlist[\"pid\"] = wishlist[\"pid\"].astype(int)\n",
        "    scientist2wishlist = wishlist.groupby(\"sid\")[\"pid\"].apply(list).to_dict()\n",
        "    return scientist2wishlist\n",
        "\n",
        "\n",
        "def read_data_matrix(df: pd.DataFrame) -> np.ndarray:\n",
        "    \"\"\"Returns matrix view of the training data, where columns are scientists (sid) and\n",
        "    rows are papers (pid).\"\"\"\n",
        "\n",
        "    return df.pivot(index=\"sid\", columns=\"pid\", values=\"rating\").values\n",
        "\n",
        "\n",
        "def evaluate(valid_df: pd.DataFrame, pred_fn: Callable[[np.ndarray, np.ndarray], np.ndarray]) -> float:\n",
        "    \"\"\"\n",
        "    Inputs:\n",
        "        valid_df: Validation data, returned from read_data_df for example.\n",
        "        pred_fn: Function that takes in arrays of sid and pid and outputs their rating predictions.\n",
        "\n",
        "    Outputs: Validation RMSE\n",
        "    \"\"\"\n",
        "\n",
        "    preds = pred_fn(valid_df[\"sid\"].values, valid_df[\"pid\"].values)\n",
        "    return root_mean_squared_error(valid_df[\"rating\"].values, preds)\n",
        "\n",
        "\n",
        "def make_submission(pred_fn: Callable[[np.ndarray, np.ndarray], np.ndarray], filename: os.PathLike):\n",
        "    \"\"\"Makes a submission CSV file that can be submitted to kaggle.\n",
        "\n",
        "    Inputs:\n",
        "        pred_fn: Function that takes in arrays of sid and pid and outputs a score.\n",
        "        filename: File to save the submission to.\n",
        "    \"\"\"\n",
        "\n",
        "    df = pd.read_csv(os.path.join(DATA_DIR, \"sample_submission.csv\"))\n",
        "\n",
        "    # Get sids and pids\n",
        "    sid_pid = df[\"sid_pid\"].str.split(\"_\", expand=True)\n",
        "    sids = sid_pid[0]\n",
        "    pids = sid_pid[1]\n",
        "    sids = sids.astype(int).values\n",
        "    pids = pids.astype(int).values\n",
        "\n",
        "    df[\"rating\"] = pred_fn(sids, pids)\n",
        "    df.to_csv(filename, index=False)\n",
        "\n",
        "def impute_values(mat: np.ndarray) -> np.ndarray:\n",
        "    return np.nan_to_num(mat, nan=3.0)\n",
        "\n",
        "def get_dataset(df: pd.DataFrame) -> torch.utils.data.Dataset:\n",
        "    \"\"\"Conversion from pandas data frame to torch dataset.\"\"\"\n",
        "    sids = torch.from_numpy(df[\"sid\"].to_numpy())\n",
        "    pids = torch.from_numpy(df[\"pid\"].to_numpy())\n",
        "    ratings = torch.from_numpy(df[\"rating\"].to_numpy()).float()\n",
        "    return torch.utils.data.TensorDataset(sids, pids, ratings)\n"
      ]
    },
    {
      "cell_type": "markdown",
      "id": "s0E_DwCNUW7z",
      "metadata": {
        "id": "s0E_DwCNUW7z"
      },
      "source": [
        "Train best model"
      ]
    },
    {
      "cell_type": "code",
      "execution_count": 8,
      "id": "0e1DkENHTnfc",
      "metadata": {
        "id": "0e1DkENHTnfc"
      },
      "outputs": [],
      "source": [
        "train_df, valid_df, scientist2papers, global_mean = read_data_df()\n",
        "train_mat = read_data_matrix(train_df)\n",
        "train_mat = impute_values(train_mat)\n",
        "\n",
        "scientist2wishlist = read_wishlist_dict()\n"
      ]
    },
    {
      "cell_type": "code",
      "execution_count": 9,
      "id": "R9ZQcqCMTsEx",
      "metadata": {
        "id": "R9ZQcqCMTsEx"
      },
      "outputs": [],
      "source": [
        "# Define model (10k scientists, 1k papers, 32-dimensional embeddings) and optimizer\n",
        "#model = EmbeddingDotProductModel(10_000, 1_000, 32).to(device)\n",
        "#optim = torch.optim.Adam(model.parameters(), lr=1e-3)\n",
        "\n",
        "emb_dim = 64\n",
        "lr = 6e-4\n",
        "wd = 4e-5\n",
        "\n",
        "model = SVDpp(emb_dim=emb_dim, s2p=scientist2papers, global_mean=global_mean, s2w=scientist2wishlist).to(device)\n",
        "optim = torch.optim.Adam(model.parameters(), lr=lr, weight_decay=wd)"
      ]
    },
    {
      "cell_type": "code",
      "execution_count": 10,
      "id": "1vvyWWTcTz73",
      "metadata": {
        "id": "1vvyWWTcTz73"
      },
      "outputs": [],
      "source": [
        "\n",
        "\n",
        "train_dataset = get_dataset(train_df)\n",
        "train_loader = torch.utils.data.DataLoader(train_dataset, batch_size=256, shuffle=True)\n",
        "\n",
        "valid_dataset = get_dataset(valid_df)\n",
        "valid_loader = torch.utils.data.DataLoader(valid_dataset, batch_size=256, shuffle=False)\n"
      ]
    },
    {
      "cell_type": "code",
      "execution_count": null,
      "id": "-mFrgIj3TZuk",
      "metadata": {
        "colab": {
          "base_uri": "https://localhost:8080/"
        },
        "id": "-mFrgIj3TZuk",
        "outputId": "52860222-f2aa-4e82-8e65-a8706b81756c"
      },
      "outputs": [
        {
          "name": "stdout",
          "output_type": "stream",
          "text": [
            "[Epoch 1] Train loss=0.988, Valid RMSE=0.9367\n",
            "[Epoch 2] Train loss=0.868, Valid RMSE=0.8961\n",
            "[Epoch 3] Train loss=0.793, Valid RMSE=0.8753\n",
            "[Epoch 4] Train loss=0.744, Valid RMSE=0.8659\n",
            "[Epoch 5] Train loss=0.706, Valid RMSE=0.8603\n",
            "[Epoch 6] Train loss=0.671, Valid RMSE=0.8569\n"
          ]
        }
      ],
      "source": [
        "NUM_EPOCHS = 20\n",
        "best_rmse = float(\"inf\")\n",
        "patience = 2\n",
        "epochs_no_improve = 0\n",
        "best_model_state = None\n",
        "\n",
        "for epoch in range(NUM_EPOCHS):\n",
        "    # Train model for an epoch\n",
        "    total_loss = 0.0\n",
        "    total_data = 0\n",
        "    model.train()\n",
        "    for sid, pid, ratings in train_loader:\n",
        "        sid = sid.to(device)\n",
        "        pid = pid.to(device)\n",
        "        ratings = ratings.to(device)\n",
        "\n",
        "        pred = model(sid, pid)\n",
        "        rating_loss = F.mse_loss(pred, ratings)\n",
        "\n",
        "        # Contrastive loss\n",
        "        neg_pids = torch.randint(0, 1000, pid.shape, device=device)\n",
        "\n",
        "        user_embeds = model.scientist_factors(sid)\n",
        "        pos_item_embeds = model.paper_factors(pid)\n",
        "        neg_item_embeds = model.paper_factors(neg_pids)\n",
        "\n",
        "        pos_scores = F.cosine_similarity(user_embeds, pos_item_embeds)\n",
        "        neg_scores = F.cosine_similarity(user_embeds, neg_item_embeds)\n",
        "\n",
        "        contrast_loss = contrastive_loss(pos_scores, neg_scores)\n",
        "\n",
        "        \n",
        "        loss = rating_loss + 0.05 * contrast_loss  # You can tune this weight\n",
        "\n",
        "\n",
        "        optim.zero_grad()\n",
        "        loss.backward()\n",
        "        optim.step()\n",
        "\n",
        "        total_data += len(sid)\n",
        "        total_loss += len(sid) * loss.item()\n",
        "\n",
        "    # Evaluate on validation set\n",
        "    total_val_mse = 0.0\n",
        "    total_val_data = 0\n",
        "    model.eval()\n",
        "    for sid, pid, ratings in valid_loader:\n",
        "        sid = sid.to(device)\n",
        "        pid = pid.to(device)\n",
        "        ratings = ratings.to(device)\n",
        "\n",
        "        pred = model(sid, pid).clamp(1, 5)\n",
        "        mse = F.mse_loss(pred, ratings)\n",
        "\n",
        "        total_val_data += len(sid)\n",
        "        total_val_mse += len(sid) * mse.item()\n",
        "\n",
        "    val_rmse = (total_val_mse / total_val_data) ** 0.5\n",
        "    train_loss = total_loss / total_data\n",
        "    print(f\"[Epoch {epoch+1}] Train loss={train_loss:.3f}, Valid RMSE={val_rmse:.4f}\")\n",
        "\n",
        "    # Early stopping check\n",
        "    if val_rmse < best_rmse:\n",
        "        best_rmse = val_rmse\n",
        "        best_model_state = copy.deepcopy(model.state_dict())\n",
        "        epochs_no_improve = 0\n",
        "    else:\n",
        "        epochs_no_improve += 1\n",
        "\n",
        "    if epochs_no_improve >= patience:\n",
        "        print(f\"Stopped early at epoch {epoch+1}. Best RMSE: {best_rmse:.4f}\")\n",
        "        break\n",
        "\n",
        "# load best model back\n",
        "model.load_state_dict(best_model_state)\n",
        "\n",
        "# save model to file\n",
        "torch.save(model.state_dict(), \"svdpp_model.pth\")\n"
      ]
    },
    {
      "cell_type": "code",
      "execution_count": null,
      "id": "AY7neReUTc1W",
      "metadata": {
        "id": "AY7neReUTc1W"
      },
      "outputs": [],
      "source": [
        "pred_fn = lambda sids, pids: model(\n",
        "    torch.from_numpy(sids).to(device),\n",
        "    torch.from_numpy(pids).to(device),\n",
        ").clamp(1, 5).cpu().numpy()\n",
        "\n",
        "# Evaluate on validation data\n",
        "with torch.no_grad():\n",
        "    val_score = evaluate(valid_df, pred_fn)\n",
        "\n",
        "print(f\"Validation RMSE: {val_score:.3f}\")"
      ]
    },
    {
      "cell_type": "code",
      "execution_count": null,
      "id": "dOaPZxb2Tgl3",
      "metadata": {
        "id": "dOaPZxb2Tgl3"
      },
      "outputs": [],
      "source": [
        "with torch.no_grad():\n",
        "    make_submission(pred_fn, \"learned_embedding_submission.csv\")"
      ]
    }
  ],
  "metadata": {
    "accelerator": "GPU",
    "colab": {
      "gpuType": "T4",
      "provenance": []
    },
    "kernelspec": {
      "display_name": "Python 3",
      "language": "python",
      "name": "python3"
    },
    "language_info": {
      "codemirror_mode": {
        "name": "ipython",
        "version": 3
      },
      "file_extension": ".py",
      "mimetype": "text/x-python",
      "name": "python",
      "nbconvert_exporter": "python",
      "pygments_lexer": "ipython3",
      "version": "3.10.14"
    }
  },
  "nbformat": 4,
  "nbformat_minor": 5
}
